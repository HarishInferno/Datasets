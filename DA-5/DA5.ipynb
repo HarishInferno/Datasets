{
  "nbformat": 4,
  "nbformat_minor": 0,
  "metadata": {
    "colab": {
      "provenance": []
    },
    "kernelspec": {
      "name": "python3",
      "display_name": "Python 3"
    },
    "language_info": {
      "name": "python"
    }
  },
  "cells": [
    {
      "cell_type": "markdown",
      "source": [
        "Question 1"
      ],
      "metadata": {
        "id": "43V5AhctjFLX"
      }
    },
    {
      "cell_type": "code",
      "source": [
        "!pip install pmdarima\n",
        "import pandas as pd\n",
        "import numpy as np\n",
        "import matplotlib.pyplot as plt\n",
        "from statsmodels.tsa.stattools import acf, pacf\n",
        "from statsmodels.graphics.tsaplots import plot_acf, plot_pacf\n",
        "from pmdarima import auto_arima\n",
        "import warnings\n",
        "\n",
        "print(\"Harish P\")\n",
        "print(\"21BBS0204\")"
      ],
      "metadata": {
        "id": "mPfs1uIUAPCE",
        "colab": {
          "base_uri": "https://localhost:8080/"
        },
        "outputId": "596aa790-658f-4a0e-9090-6c1fc038eb29"
      },
      "execution_count": null,
      "outputs": [
        {
          "output_type": "stream",
          "name": "stdout",
          "text": [
            "Requirement already satisfied: pmdarima in /usr/local/lib/python3.10/dist-packages (2.0.4)\n",
            "Requirement already satisfied: joblib>=0.11 in /usr/local/lib/python3.10/dist-packages (from pmdarima) (1.4.2)\n",
            "Requirement already satisfied: Cython!=0.29.18,!=0.29.31,>=0.29 in /usr/local/lib/python3.10/dist-packages (from pmdarima) (3.0.11)\n",
            "Requirement already satisfied: numpy>=1.21.2 in /usr/local/lib/python3.10/dist-packages (from pmdarima) (1.26.4)\n",
            "Requirement already satisfied: pandas>=0.19 in /usr/local/lib/python3.10/dist-packages (from pmdarima) (2.2.2)\n",
            "Requirement already satisfied: scikit-learn>=0.22 in /usr/local/lib/python3.10/dist-packages (from pmdarima) (1.5.2)\n",
            "Requirement already satisfied: scipy>=1.3.2 in /usr/local/lib/python3.10/dist-packages (from pmdarima) (1.13.1)\n",
            "Requirement already satisfied: statsmodels>=0.13.2 in /usr/local/lib/python3.10/dist-packages (from pmdarima) (0.14.4)\n",
            "Requirement already satisfied: urllib3 in /usr/local/lib/python3.10/dist-packages (from pmdarima) (2.2.3)\n",
            "Requirement already satisfied: setuptools!=50.0.0,>=38.6.0 in /usr/local/lib/python3.10/dist-packages (from pmdarima) (75.1.0)\n",
            "Requirement already satisfied: packaging>=17.1 in /usr/local/lib/python3.10/dist-packages (from pmdarima) (24.2)\n",
            "Requirement already satisfied: python-dateutil>=2.8.2 in /usr/local/lib/python3.10/dist-packages (from pandas>=0.19->pmdarima) (2.8.2)\n",
            "Requirement already satisfied: pytz>=2020.1 in /usr/local/lib/python3.10/dist-packages (from pandas>=0.19->pmdarima) (2024.2)\n",
            "Requirement already satisfied: tzdata>=2022.7 in /usr/local/lib/python3.10/dist-packages (from pandas>=0.19->pmdarima) (2024.2)\n",
            "Requirement already satisfied: threadpoolctl>=3.1.0 in /usr/local/lib/python3.10/dist-packages (from scikit-learn>=0.22->pmdarima) (3.5.0)\n",
            "Requirement already satisfied: patsy>=0.5.6 in /usr/local/lib/python3.10/dist-packages (from statsmodels>=0.13.2->pmdarima) (0.5.6)\n",
            "Requirement already satisfied: six in /usr/local/lib/python3.10/dist-packages (from patsy>=0.5.6->statsmodels>=0.13.2->pmdarima) (1.16.0)\n",
            "Harish P\n",
            "21BBS0204\n"
          ]
        }
      ]
    },
    {
      "cell_type": "code",
      "source": [
        "with warnings.catch_warnings():\n",
        "    warnings.simplefilter(\"ignore\", category=UserWarning)\n",
        "    df = pd.read_csv('/content/Arima.csv', parse_dates=['Date'], index_col='Date')"
      ],
      "metadata": {
        "id": "QHa8jVt0HgA2"
      },
      "execution_count": null,
      "outputs": []
    },
    {
      "cell_type": "code",
      "source": [
        "print(\"Harish P\")\n",
        "print(\"21BBS0204\")\n",
        "\n",
        "df['price'] = pd.to_numeric(df['Price'].str.replace(',', ''), errors='coerce')"
      ],
      "metadata": {
        "id": "3XO-RvRqJmRZ",
        "colab": {
          "base_uri": "https://localhost:8080/"
        },
        "outputId": "cd1add63-2a90-4b21-bb48-d09735725b94"
      },
      "execution_count": null,
      "outputs": [
        {
          "output_type": "stream",
          "name": "stdout",
          "text": [
            "Harish P\n",
            "21BBS0204\n"
          ]
        }
      ]
    },
    {
      "cell_type": "code",
      "source": [
        "df['MA_50'] = df['price'].rolling(window=50).mean()\n",
        "df['MA_200'] = df['price'].rolling(window=200).mean()\n",
        "df['MA_365'] = df['price'].rolling(window=365).mean()\n",
        "df['MA_500'] = df['price'].rolling(window=500).mean()\n",
        "print(df[['price', 'MA_50', 'MA_200', 'MA_365', 'MA_500']].tail(10))"
      ],
      "metadata": {
        "colab": {
          "base_uri": "https://localhost:8080/"
        },
        "id": "4bTWULfcJ7dl",
        "outputId": "5b273d9f-7e1d-4f5b-f1e0-a52ab795fca6"
      },
      "execution_count": null,
      "outputs": [
        {
          "output_type": "stream",
          "name": "stdout",
          "text": [
            "             price    MA_50     MA_200      MA_365    MA_500\n",
            "Date                                                        \n",
            "2017-10-16  437.05  421.136  358.14375  285.142466  250.0366\n",
            "2017-10-13  424.80  421.148  358.94250  285.741507  250.5908\n",
            "2017-10-12  420.15  421.111  359.72275  286.340959  251.1774\n",
            "2017-10-11  415.50  421.005  360.46275  286.923288  251.7414\n",
            "2017-10-10  423.60  421.025  361.24000  287.570548  252.3233\n",
            "2017-10-09  425.60  421.135  362.07675  288.259178  252.9110\n",
            "2017-10-06  424.85  421.516  362.91175  288.955890  253.4870\n",
            "2017-10-05  423.30  421.880  363.73425  289.650274  254.0546\n",
            "2017-10-04  423.55  422.303  364.55825  290.336438  254.6500\n",
            "2017-10-03  416.00  422.584  365.37125  291.006849  255.2281\n"
          ]
        }
      ]
    },
    {
      "cell_type": "code",
      "source": [
        "print(\"Harish P\")\n",
        "print(\"21BBS0204\")\n",
        "\n",
        "model = auto_arima(df['price'], seasonal=False, stepwise=True, trace=True)\n",
        "print(model.summary())"
      ],
      "metadata": {
        "colab": {
          "base_uri": "https://localhost:8080/"
        },
        "id": "3AsoIBzYJ_N9",
        "outputId": "273dd96c-06bf-4522-d8a3-3c5a176bba4a"
      },
      "execution_count": null,
      "outputs": [
        {
          "output_type": "stream",
          "name": "stdout",
          "text": [
            "Harish P\n",
            "21BBS0204\n",
            "Performing stepwise search to minimize aic\n",
            " ARIMA(2,2,2)(0,0,0)[0] intercept   : AIC=inf, Time=2.74 sec\n",
            " ARIMA(0,2,0)(0,0,0)[0] intercept   : AIC=14174.801, Time=0.17 sec\n",
            " ARIMA(1,2,0)(0,0,0)[0] intercept   : AIC=13645.892, Time=0.90 sec\n",
            " ARIMA(0,2,1)(0,0,0)[0] intercept   : AIC=inf, Time=6.26 sec\n",
            " ARIMA(0,2,0)(0,0,0)[0]             : AIC=14172.801, Time=0.12 sec\n",
            " ARIMA(2,2,0)(0,0,0)[0] intercept   : AIC=13496.711, Time=1.63 sec\n",
            " ARIMA(3,2,0)(0,0,0)[0] intercept   : AIC=13382.235, Time=2.62 sec\n",
            " ARIMA(4,2,0)(0,0,0)[0] intercept   : AIC=13338.003, Time=3.81 sec\n",
            " ARIMA(5,2,0)(0,0,0)[0] intercept   : AIC=13272.135, Time=7.07 sec\n",
            " ARIMA(5,2,1)(0,0,0)[0] intercept   : AIC=inf, Time=15.69 sec\n",
            " ARIMA(4,2,1)(0,0,0)[0] intercept   : AIC=inf, Time=4.54 sec\n",
            " ARIMA(5,2,0)(0,0,0)[0]             : AIC=13270.138, Time=0.86 sec\n",
            " ARIMA(4,2,0)(0,0,0)[0]             : AIC=13336.006, Time=1.70 sec\n",
            " ARIMA(5,2,1)(0,0,0)[0]             : AIC=inf, Time=3.23 sec\n",
            " ARIMA(4,2,1)(0,0,0)[0]             : AIC=inf, Time=1.56 sec\n",
            "\n",
            "Best model:  ARIMA(5,2,0)(0,0,0)[0]          \n",
            "Total fit time: 52.941 seconds\n",
            "                               SARIMAX Results                                \n",
            "==============================================================================\n",
            "Dep. Variable:                      y   No. Observations:                 1754\n",
            "Model:               SARIMAX(5, 2, 0)   Log Likelihood               -6629.069\n",
            "Date:                Thu, 14 Nov 2024   AIC                          13270.138\n",
            "Time:                        16:30:19   BIC                          13302.949\n",
            "Sample:                             0   HQIC                         13282.267\n",
            "                               - 1754                                         \n",
            "Covariance Type:                  opg                                         \n",
            "==============================================================================\n",
            "                 coef    std err          z      P>|z|      [0.025      0.975]\n",
            "------------------------------------------------------------------------------\n",
            "ar.L1         -0.8045      0.015    -55.212      0.000      -0.833      -0.776\n",
            "ar.L2         -0.6011      0.018    -33.361      0.000      -0.636      -0.566\n",
            "ar.L3         -0.4754      0.018    -26.326      0.000      -0.511      -0.440\n",
            "ar.L4         -0.3120      0.017    -18.341      0.000      -0.345      -0.279\n",
            "ar.L5         -0.1956      0.013    -14.760      0.000      -0.222      -0.170\n",
            "sigma2       113.1854      1.543     73.374      0.000     110.162     116.209\n",
            "===================================================================================\n",
            "Ljung-Box (L1) (Q):                   0.33   Jarque-Bera (JB):             10016.07\n",
            "Prob(Q):                              0.57   Prob(JB):                         0.00\n",
            "Heteroskedasticity (H):               0.21   Skew:                             0.13\n",
            "Prob(H) (two-sided):                  0.00   Kurtosis:                        14.71\n",
            "===================================================================================\n",
            "\n",
            "Warnings:\n",
            "[1] Covariance matrix calculated using the outer product of gradients (complex-step).\n"
          ]
        }
      ]
    },
    {
      "cell_type": "code",
      "source": [
        "print(\"Harish P\")\n",
        "print(\"21BBS0204\")"
      ],
      "metadata": {
        "colab": {
          "base_uri": "https://localhost:8080/"
        },
        "id": "o11OdRq6bYHo",
        "outputId": "9e31c26a-7b34-4161-8a01-48793b48780e"
      },
      "execution_count": null,
      "outputs": [
        {
          "output_type": "stream",
          "name": "stdout",
          "text": [
            "Harish P\n",
            "21BBS0204\n"
          ]
        }
      ]
    },
    {
      "source": [
        "plt.figure(figsize=(12, 6))\n",
        "plt.subplot(1, 2, 1)\n",
        "plot_acf(df['price'].dropna(), lags=40, ax=plt.gca())\n",
        "plt.title('Autocorrelation Function')\n",
        "\n",
        "plt.subplot(1, 2, 2)\n",
        "plot_pacf(df['price'].dropna(), lags=40, ax=plt.gca())\n",
        "plt.title('Partial Autocorrelation Function')\n",
        "\n",
        "plt.tight_layout()\n",
        "plt.show()\n",
        "\n",
        "acf_values = acf(df['price'].dropna(), nlags=40)\n",
        "pacf_values = pacf(df['price'].dropna(), nlags=40)\n",
        "lags = range(len(acf_values))\n",
        "\n",
        "def summarize_autocorrelations(acf_values, pacf_values, lags):\n",
        "    summary = {\n",
        "        'ACF': {},\n",
        "        'PACF': {}\n",
        "    }\n",
        "\n",
        "    for lag in range(len(lags)):\n",
        "        if abs(acf_values[lag]) > 0.2:\n",
        "            summary['ACF'][lags[lag]] = acf_values[lag]\n",
        "        if abs(pacf_values[lag]) > 0.2:\n",
        "            summary['PACF'][lags[lag]] = pacf_values[lag]\n",
        "\n",
        "    return summary\n",
        "\n",
        "autocorrelation_summary = summarize_autocorrelations(acf_values, pacf_values, lags)\n",
        "print(\"Autocorrelation Summary:\")\n",
        "print(\"ACF Significant Lags:\", autocorrelation_summary['ACF'])\n",
        "print(\"PACF Significant Lags:\", autocorrelation_summary['PACF'])"
      ],
      "cell_type": "code",
      "metadata": {
        "colab": {
          "base_uri": "https://localhost:8080/",
          "height": 679
        },
        "id": "aAh5pSU-IJW2",
        "outputId": "23375db7-71f6-410f-e9e5-b0b684de8033"
      },
      "execution_count": null,
      "outputs": [
        {
          "output_type": "display_data",
          "data": {
            "text/plain": [
              "<Figure size 1200x600 with 2 Axes>"
            ],
            "image/png": "[encoded data removed]"
          },
          "metadata": {}
        },
        {
          "output_type": "stream",
          "name": "stdout",
          "text": [
            "Autocorrelation Summary:\n",
            "ACF Significant Lags: {0: 1.0, 1: 0.9983982291380649, 2: 0.9967951241382028, 3: 0.9949916278564795, 4: 0.9932856125939786, 5: 0.9915080110519444, 6: 0.9898057220910925, 7: 0.9880654157431292, 8: 0.9863517945157644, 9: 0.9846306520891407, 10: 0.9829706977721224, 11: 0.9812222303131685, 12: 0.9793379578044391, 13: 0.9773604299498848, 14: 0.9753865108286757, 15: 0.9734004781709039, 16: 0.9713117269375822, 17: 0.9692878092078567, 18: 0.9671885150193712, 19: 0.9650635265418472, 20: 0.9629893435435386, 21: 0.9606298960461906, 22: 0.9582132443922122, 23: 0.9556740316545642, 24: 0.9530772447956622, 25: 0.95061703452889, 26: 0.9480946102712946, 27: 0.9455965149759918, 28: 0.943095594259691, 29: 0.9406114428439473, 30: 0.9381020360277613, 31: 0.9355996182721186, 32: 0.933051269462655, 33: 0.9305102128071296, 34: 0.9279980809595108, 35: 0.9254623431970388, 36: 0.9226832597540289, 37: 0.9199143094081543, 38: 0.9171999036585198, 39: 0.9144266451361582, 40: 0.9115857663499752}\n",
            "PACF Significant Lags: {0: 1.0, 1: 0.9989677660628441}\n"
          ]
        }
      ]
    },
    {
      "cell_type": "markdown",
      "source": [
        "Question 2"
      ],
      "metadata": {
        "id": "DvFhGP2IOSFC"
      }
    },
    {
      "cell_type": "code",
      "execution_count": null,
      "metadata": {
        "id": "sRrseKF9OQaZ",
        "colab": {
          "base_uri": "https://localhost:8080/"
        },
        "outputId": "66d89f3d-c79a-4685-8164-478ce63854b4"
      },
      "outputs": [
        {
          "output_type": "stream",
          "name": "stdout",
          "text": [
            "Harish P\n",
            "21BBS0204\n"
          ]
        }
      ],
      "source": [
        "print(\"Harish P\")\n",
        "print(\"21BBS0204\")\n",
        "\n",
        "import numpy as np\n",
        "import pandas as pd\n",
        "from sklearn.preprocessing import LabelEncoder\n",
        "from sklearn.preprocessing import MinMaxScaler\n",
        "from sklearn.model_selection import train_test_split\n",
        "from sklearn.linear_model import LogisticRegression\n",
        "from sklearn.metrics import accuracy_score\n",
        "from sklearn.metrics import classification_report\n",
        "import warnings"
      ]
    },
    {
      "cell_type": "code",
      "source": [
        "df = pd.read_csv('/content/Logistic.csv')\n",
        "df.head(2)"
      ],
      "metadata": {
        "colab": {
          "base_uri": "https://localhost:8080/",
          "height": 112
        },
        "id": "oH3qmIQhP5RD",
        "outputId": "66937ca6-0199-48f8-9374-dbd0a9f11121"
      },
      "execution_count": null,
      "outputs": [
        {
          "output_type": "execute_result",
          "data": {
            "text/plain": [
              "   CGPA  GRE_Score  TOEFL_Score  Research_Papers  Projects  Internships  \\\n",
              "0   9.2        332          118                3         7            4   \n",
              "1   8.7        321          109                1         4            2   \n",
              "\n",
              "   Admitted  \n",
              "0         1  \n",
              "1         1  "
            ],
            "text/html": [
              "\n",
              "  <div id=\"df-73e99e5f-86e7-4753-b6c5-83217963e2df\" class=\"colab-df-container\">\n",
              "    <div>\n",
              "<style scoped>\n",
              "    .dataframe tbody tr th:only-of-type {\n",
              "        vertical-align: middle;\n",
              "    }\n",
              "\n",
              "    .dataframe tbody tr th {\n",
              "        vertical-align: top;\n",
              "    }\n",
              "\n",
              "    .dataframe thead th {\n",
              "        text-align: right;\n",
              "    }\n",
              "</style>\n",
              "<table border=\"1\" class=\"dataframe\">\n",
              "  <thead>\n",
              "    <tr style=\"text-align: right;\">\n",
              "      <th></th>\n",
              "      <th>CGPA</th>\n",
              "      <th>GRE_Score</th>\n",
              "      <th>TOEFL_Score</th>\n",
              "      <th>Research_Papers</th>\n",
              "      <th>Projects</th>\n",
              "      <th>Internships</th>\n",
              "      <th>Admitted</th>\n",
              "    </tr>\n",
              "  </thead>\n",
              "  <tbody>\n",
              "    <tr>\n",
              "      <th>0</th>\n",
              "      <td>9.2</td>\n",
              "      <td>332</td>\n",
              "      <td>118</td>\n",
              "      <td>3</td>\n",
              "      <td>7</td>\n",
              "      <td>4</td>\n",
              "      <td>1</td>\n",
              "    </tr>\n",
              "    <tr>\n",
              "      <th>1</th>\n",
              "      <td>8.7</td>\n",
              "      <td>321</td>\n",
              "      <td>109</td>\n",
              "      <td>1</td>\n",
              "      <td>4</td>\n",
              "      <td>2</td>\n",
              "      <td>1</td>\n",
              "    </tr>\n",
              "  </tbody>\n",
              "</table>\n",
              "</div>\n",
              "    <div class=\"colab-df-buttons\">\n",
              "\n",
              "  <div class=\"colab-df-container\">\n",
              "    <button class=\"colab-df-convert\" onclick=\"convertToInteractive('df-73e99e5f-86e7-4753-b6c5-83217963e2df')\"\n",
              "            title=\"Convert this dataframe to an interactive table.\"\n",
              "            style=\"display:none;\">\n",
              "\n",
              "  <svg xmlns=\"http://www.w3.org/2000/svg\" height=\"24px\" viewBox=\"0 -960 960 960\">\n",
              "    <path d=\"M120-120v-720h720v720H120Zm60-500h600v-160H180v160Zm220 220h160v-160H400v160Zm0 220h160v-160H400v160ZM180-400h160v-160H180v160Zm440 0h160v-160H620v160ZM180-180h160v-160H180v160Zm440 0h160v-160H620v160Z\"/>\n",
              "  </svg>\n",
              "    </button>\n",
              "\n",
              "  <style>\n",
              "    .colab-df-container {\n",
              "      display:flex;\n",
              "      gap: 12px;\n",
              "    }\n",
              "\n",
              "    .colab-df-convert {\n",
              "      background-color: #E8F0FE;\n",
              "      border: none;\n",
              "      border-radius: 50%;\n",
              "      cursor: pointer;\n",
              "      display: none;\n",
              "      fill: #1967D2;\n",
              "      height: 32px;\n",
              "      padding: 0 0 0 0;\n",
              "      width: 32px;\n",
              "    }\n",
              "\n",
              "    .colab-df-convert:hover {\n",
              "      background-color: #E2EBFA;\n",
              "      box-shadow: 0px 1px 2px rgba(60, 64, 67, 0.3), 0px 1px 3px 1px rgba(60, 64, 67, 0.15);\n",
              "      fill: #174EA6;\n",
              "    }\n",
              "\n",
              "    .colab-df-buttons div {\n",
              "      margin-bottom: 4px;\n",
              "    }\n",
              "\n",
              "    [theme=dark] .colab-df-convert {\n",
              "      background-color: #3B4455;\n",
              "      fill: #D2E3FC;\n",
              "    }\n",
              "\n",
              "    [theme=dark] .colab-df-convert:hover {\n",
              "      background-color: #434B5C;\n",
              "      box-shadow: 0px 1px 3px 1px rgba(0, 0, 0, 0.15);\n",
              "      filter: drop-shadow(0px 1px 2px rgba(0, 0, 0, 0.3));\n",
              "      fill: #FFFFFF;\n",
              "    }\n",
              "  </style>\n",
              "\n",
              "    <script>\n",
              "      const buttonEl =\n",
              "        document.querySelector('#df-73e99e5f-86e7-4753-b6c5-83217963e2df button.colab-df-convert');\n",
              "      buttonEl.style.display =\n",
              "        google.colab.kernel.accessAllowed ? 'block' : 'none';\n",
              "\n",
              "      async function convertToInteractive(key) {\n",
              "        const element = document.querySelector('#df-73e99e5f-86e7-4753-b6c5-83217963e2df');\n",
              "        const dataTable =\n",
              "          await google.colab.kernel.invokeFunction('convertToInteractive',\n",
              "                                                    [key], {});\n",
              "        if (!dataTable) return;\n",
              "\n",
              "        const docLinkHtml = 'Like what you see? Visit the ' +\n",
              "          '<a target=\"_blank\" href=https://colab.research.google.com/notebooks/data_table.ipynb>data table notebook</a>'\n",
              "          + ' to learn more about interactive tables.';\n",
              "        element.innerHTML = '';\n",
              "        dataTable['output_type'] = 'display_data';\n",
              "        await google.colab.output.renderOutput(dataTable, element);\n",
              "        const docLink = document.createElement('div');\n",
              "        docLink.innerHTML = docLinkHtml;\n",
              "        element.appendChild(docLink);\n",
              "      }\n",
              "    </script>\n",
              "  </div>\n",
              "\n",
              "\n",
              "<div id=\"df-f240bb4b-dffb-46f4-bea5-4c543e1ac449\">\n",
              "  <button class=\"colab-df-quickchart\" onclick=\"quickchart('df-f240bb4b-dffb-46f4-bea5-4c543e1ac449')\"\n",
              "            title=\"Suggest charts\"\n",
              "            style=\"display:none;\">\n",
              "\n",
              "<svg xmlns=\"http://www.w3.org/2000/svg\" height=\"24px\"viewBox=\"0 0 24 24\"\n",
              "     width=\"24px\">\n",
              "    <g>\n",
              "        <path d=\"M19 3H5c-1.1 0-2 .9-2 2v14c0 1.1.9 2 2 2h14c1.1 0 2-.9 2-2V5c0-1.1-.9-2-2-2zM9 17H7v-7h2v7zm4 0h-2V7h2v10zm4 0h-2v-4h2v4z\"/>\n",
              "    </g>\n",
              "</svg>\n",
              "  </button>\n",
              "\n",
              "<style>\n",
              "  .colab-df-quickchart {\n",
              "      --bg-color: #E8F0FE;\n",
              "      --fill-color: #1967D2;\n",
              "      --hover-bg-color: #E2EBFA;\n",
              "      --hover-fill-color: #174EA6;\n",
              "      --disabled-fill-color: #AAA;\n",
              "      --disabled-bg-color: #DDD;\n",
              "  }\n",
              "\n",
              "  [theme=dark] .colab-df-quickchart {\n",
              "      --bg-color: #3B4455;\n",
              "      --fill-color: #D2E3FC;\n",
              "      --hover-bg-color: #434B5C;\n",
              "      --hover-fill-color: #FFFFFF;\n",
              "      --disabled-bg-color: #3B4455;\n",
              "      --disabled-fill-color: #666;\n",
              "  }\n",
              "\n",
              "  .colab-df-quickchart {\n",
              "    background-color: var(--bg-color);\n",
              "    border: none;\n",
              "    border-radius: 50%;\n",
              "    cursor: pointer;\n",
              "    display: none;\n",
              "    fill: var(--fill-color);\n",
              "    height: 32px;\n",
              "    padding: 0;\n",
              "    width: 32px;\n",
              "  }\n",
              "\n",
              "  .colab-df-quickchart:hover {\n",
              "    background-color: var(--hover-bg-color);\n",
              "    box-shadow: 0 1px 2px rgba(60, 64, 67, 0.3), 0 1px 3px 1px rgba(60, 64, 67, 0.15);\n",
              "    fill: var(--button-hover-fill-color);\n",
              "  }\n",
              "\n",
              "  .colab-df-quickchart-complete:disabled,\n",
              "  .colab-df-quickchart-complete:disabled:hover {\n",
              "    background-color: var(--disabled-bg-color);\n",
              "    fill: var(--disabled-fill-color);\n",
              "    box-shadow: none;\n",
              "  }\n",
              "\n",
              "  .colab-df-spinner {\n",
              "    border: 2px solid var(--fill-color);\n",
              "    border-color: transparent;\n",
              "    border-bottom-color: var(--fill-color);\n",
              "    animation:\n",
              "      spin 1s steps(1) infinite;\n",
              "  }\n",
              "\n",
              "  @keyframes spin {\n",
              "    0% {\n",
              "      border-color: transparent;\n",
              "      border-bottom-color: var(--fill-color);\n",
              "      border-left-color: var(--fill-color);\n",
              "    }\n",
              "    20% {\n",
              "      border-color: transparent;\n",
              "      border-left-color: var(--fill-color);\n",
              "      border-top-color: var(--fill-color);\n",
              "    }\n",
              "    30% {\n",
              "      border-color: transparent;\n",
              "      border-left-color: var(--fill-color);\n",
              "      border-top-color: var(--fill-color);\n",
              "      border-right-color: var(--fill-color);\n",
              "    }\n",
              "    40% {\n",
              "      border-color: transparent;\n",
              "      border-right-color: var(--fill-color);\n",
              "      border-top-color: var(--fill-color);\n",
              "    }\n",
              "    60% {\n",
              "      border-color: transparent;\n",
              "      border-right-color: var(--fill-color);\n",
              "    }\n",
              "    80% {\n",
              "      border-color: transparent;\n",
              "      border-right-color: var(--fill-color);\n",
              "      border-bottom-color: var(--fill-color);\n",
              "    }\n",
              "    90% {\n",
              "      border-color: transparent;\n",
              "      border-bottom-color: var(--fill-color);\n",
              "    }\n",
              "  }\n",
              "</style>\n",
              "\n",
              "  <script>\n",
              "    async function quickchart(key) {\n",
              "      const quickchartButtonEl =\n",
              "        document.querySelector('#' + key + ' button');\n",
              "      quickchartButtonEl.disabled = true;  // To prevent multiple clicks.\n",
              "      quickchartButtonEl.classList.add('colab-df-spinner');\n",
              "      try {\n",
              "        const charts = await google.colab.kernel.invokeFunction(\n",
              "            'suggestCharts', [key], {});\n",
              "      } catch (error) {\n",
              "        console.error('Error during call to suggestCharts:', error);\n",
              "      }\n",
              "      quickchartButtonEl.classList.remove('colab-df-spinner');\n",
              "      quickchartButtonEl.classList.add('colab-df-quickchart-complete');\n",
              "    }\n",
              "    (() => {\n",
              "      let quickchartButtonEl =\n",
              "        document.querySelector('#df-f240bb4b-dffb-46f4-bea5-4c543e1ac449 button');\n",
              "      quickchartButtonEl.style.display =\n",
              "        google.colab.kernel.accessAllowed ? 'block' : 'none';\n",
              "    })();\n",
              "  </script>\n",
              "</div>\n",
              "\n",
              "    </div>\n",
              "  </div>\n"
            ],
            "application/vnd.google.colaboratory.intrinsic+json": {
              "type": "dataframe",
              "variable_name": "df",
              "summary": "{\n  \"name\": \"df\",\n  \"rows\": 108,\n  \"fields\": [\n    {\n      \"column\": \"CGPA\",\n      \"properties\": {\n        \"dtype\": \"number\",\n        \"std\": 0.5609501840932649,\n        \"min\": 7.4,\n        \"max\": 9.3,\n        \"num_unique_values\": 20,\n        \"samples\": [\n          9.2,\n          7.4,\n          8.6\n        ],\n        \"semantic_type\": \"\",\n        \"description\": \"\"\n      }\n    },\n    {\n      \"column\": \"GRE_Score\",\n      \"properties\": {\n        \"dtype\": \"number\",\n        \"std\": 9,\n        \"min\": 305,\n        \"max\": 335,\n        \"num_unique_values\": 29,\n        \"samples\": [\n          324,\n          323,\n          330\n        ],\n        \"semantic_type\": \"\",\n        \"description\": \"\"\n      }\n    },\n    {\n      \"column\": \"TOEFL_Score\",\n      \"properties\": {\n        \"dtype\": \"number\",\n        \"std\": 6,\n        \"min\": 97,\n        \"max\": 119,\n        \"num_unique_values\": 21,\n        \"samples\": [\n          118,\n          97,\n          111\n        ],\n        \"semantic_type\": \"\",\n        \"description\": \"\"\n      }\n    },\n    {\n      \"column\": \"Research_Papers\",\n      \"properties\": {\n        \"dtype\": \"number\",\n        \"std\": 1,\n        \"min\": 0,\n        \"max\": 3,\n        \"num_unique_values\": 4,\n        \"samples\": [\n          1,\n          2,\n          3\n        ],\n        \"semantic_type\": \"\",\n        \"description\": \"\"\n      }\n    },\n    {\n      \"column\": \"Projects\",\n      \"properties\": {\n        \"dtype\": \"number\",\n        \"std\": 1,\n        \"min\": 2,\n        \"max\": 7,\n        \"num_unique_values\": 6,\n        \"samples\": [\n          7,\n          4,\n          5\n        ],\n        \"semantic_type\": \"\",\n        \"description\": \"\"\n      }\n    },\n    {\n      \"column\": \"Internships\",\n      \"properties\": {\n        \"dtype\": \"number\",\n        \"std\": 1,\n        \"min\": 0,\n        \"max\": 5,\n        \"num_unique_values\": 6,\n        \"samples\": [\n          4,\n          2,\n          1\n        ],\n        \"semantic_type\": \"\",\n        \"description\": \"\"\n      }\n    },\n    {\n      \"column\": \"Admitted\",\n      \"properties\": {\n        \"dtype\": \"number\",\n        \"std\": 0,\n        \"min\": 0,\n        \"max\": 1,\n        \"num_unique_values\": 2,\n        \"samples\": [\n          0,\n          1\n        ],\n        \"semantic_type\": \"\",\n        \"description\": \"\"\n      }\n    }\n  ]\n}"
            }
          },
          "metadata": {},
          "execution_count": 89
        }
      ]
    },
    {
      "cell_type": "code",
      "source": [
        "x =df.drop(columns =['Admitted'],axis =1)\n",
        "y=df.Admitted"
      ],
      "metadata": {
        "id": "3ZWFcGk-RGrp"
      },
      "execution_count": null,
      "outputs": []
    },
    {
      "cell_type": "code",
      "source": [
        "x_train,x_test,y_train,y_test = train_test_split(x,y,test_size = 0.25,random_state = 130)"
      ],
      "metadata": {
        "id": "WuNBR84IRcT2"
      },
      "execution_count": null,
      "outputs": []
    },
    {
      "cell_type": "code",
      "source": [
        "print(\"Harish P\")\n",
        "print(\"21BBS0204\")\n",
        "\n",
        "with warnings.catch_warnings():\n",
        "    warnings.simplefilter(\"ignore\", category=UserWarning)\n",
        "    log = LogisticRegression()\n",
        "    log.fit(x_train,y_train)"
      ],
      "metadata": {
        "id": "J97KNJ-NRgZi",
        "colab": {
          "base_uri": "https://localhost:8080/"
        },
        "outputId": "d35412f8-82d5-4430-9c34-d114bbdd9848"
      },
      "execution_count": null,
      "outputs": [
        {
          "output_type": "stream",
          "name": "stdout",
          "text": [
            "Harish P\n",
            "21BBS0204\n"
          ]
        }
      ]
    },
    {
      "cell_type": "code",
      "source": [
        "pred = log.predict(x_test)"
      ],
      "metadata": {
        "id": "V6UMPgloRkcU"
      },
      "execution_count": null,
      "outputs": []
    },
    {
      "cell_type": "code",
      "source": [
        "accuracy_score(y_test,pred)"
      ],
      "metadata": {
        "colab": {
          "base_uri": "https://localhost:8080/"
        },
        "id": "FDgIj5r-RpWB",
        "outputId": "b9772fde-e462-48cc-d75e-1e142fbbeb00"
      },
      "execution_count": null,
      "outputs": [
        {
          "output_type": "execute_result",
          "data": {
            "text/plain": [
              "0.9259259259259259"
            ]
          },
          "metadata": {},
          "execution_count": 94
        }
      ]
    },
    {
      "cell_type": "code",
      "source": [
        "pd.crosstab(y_test,pred)"
      ],
      "metadata": {
        "colab": {
          "base_uri": "https://localhost:8080/",
          "height": 143
        },
        "id": "VJw2__aSRsdy",
        "outputId": "ccf4ed76-771c-449b-c4b1-85356fecb273"
      },
      "execution_count": null,
      "outputs": [
        {
          "output_type": "execute_result",
          "data": {
            "text/plain": [
              "col_0      0   1\n",
              "Admitted        \n",
              "0         10   1\n",
              "1          1  15"
            ],
            "text/html": [
              "\n",
              "  <div id=\"df-c2090d7e-c2c0-4ed6-99d6-e4c537db57c2\" class=\"colab-df-container\">\n",
              "    <div>\n",
              "<style scoped>\n",
              "    .dataframe tbody tr th:only-of-type {\n",
              "        vertical-align: middle;\n",
              "    }\n",
              "\n",
              "    .dataframe tbody tr th {\n",
              "        vertical-align: top;\n",
              "    }\n",
              "\n",
              "    .dataframe thead th {\n",
              "        text-align: right;\n",
              "    }\n",
              "</style>\n",
              "<table border=\"1\" class=\"dataframe\">\n",
              "  <thead>\n",
              "    <tr style=\"text-align: right;\">\n",
              "      <th>col_0</th>\n",
              "      <th>0</th>\n",
              "      <th>1</th>\n",
              "    </tr>\n",
              "    <tr>\n",
              "      <th>Admitted</th>\n",
              "      <th></th>\n",
              "      <th></th>\n",
              "    </tr>\n",
              "  </thead>\n",
              "  <tbody>\n",
              "    <tr>\n",
              "      <th>0</th>\n",
              "      <td>10</td>\n",
              "      <td>1</td>\n",
              "    </tr>\n",
              "    <tr>\n",
              "      <th>1</th>\n",
              "      <td>1</td>\n",
              "      <td>15</td>\n",
              "    </tr>\n",
              "  </tbody>\n",
              "</table>\n",
              "</div>\n",
              "    <div class=\"colab-df-buttons\">\n",
              "\n",
              "  <div class=\"colab-df-container\">\n",
              "    <button class=\"colab-df-convert\" onclick=\"convertToInteractive('df-c2090d7e-c2c0-4ed6-99d6-e4c537db57c2')\"\n",
              "            title=\"Convert this dataframe to an interactive table.\"\n",
              "            style=\"display:none;\">\n",
              "\n",
              "  <svg xmlns=\"http://www.w3.org/2000/svg\" height=\"24px\" viewBox=\"0 -960 960 960\">\n",
              "    <path d=\"M120-120v-720h720v720H120Zm60-500h600v-160H180v160Zm220 220h160v-160H400v160Zm0 220h160v-160H400v160ZM180-400h160v-160H180v160Zm440 0h160v-160H620v160ZM180-180h160v-160H180v160Zm440 0h160v-160H620v160Z\"/>\n",
              "  </svg>\n",
              "    </button>\n",
              "\n",
              "  <style>\n",
              "    .colab-df-container {\n",
              "      display:flex;\n",
              "      gap: 12px;\n",
              "    }\n",
              "\n",
              "    .colab-df-convert {\n",
              "      background-color: #E8F0FE;\n",
              "      border: none;\n",
              "      border-radius: 50%;\n",
              "      cursor: pointer;\n",
              "      display: none;\n",
              "      fill: #1967D2;\n",
              "      height: 32px;\n",
              "      padding: 0 0 0 0;\n",
              "      width: 32px;\n",
              "    }\n",
              "\n",
              "    .colab-df-convert:hover {\n",
              "      background-color: #E2EBFA;\n",
              "      box-shadow: 0px 1px 2px rgba(60, 64, 67, 0.3), 0px 1px 3px 1px rgba(60, 64, 67, 0.15);\n",
              "      fill: #174EA6;\n",
              "    }\n",
              "\n",
              "    .colab-df-buttons div {\n",
              "      margin-bottom: 4px;\n",
              "    }\n",
              "\n",
              "    [theme=dark] .colab-df-convert {\n",
              "      background-color: #3B4455;\n",
              "      fill: #D2E3FC;\n",
              "    }\n",
              "\n",
              "    [theme=dark] .colab-df-convert:hover {\n",
              "      background-color: #434B5C;\n",
              "      box-shadow: 0px 1px 3px 1px rgba(0, 0, 0, 0.15);\n",
              "      filter: drop-shadow(0px 1px 2px rgba(0, 0, 0, 0.3));\n",
              "      fill: #FFFFFF;\n",
              "    }\n",
              "  </style>\n",
              "\n",
              "    <script>\n",
              "      const buttonEl =\n",
              "        document.querySelector('#df-c2090d7e-c2c0-4ed6-99d6-e4c537db57c2 button.colab-df-convert');\n",
              "      buttonEl.style.display =\n",
              "        google.colab.kernel.accessAllowed ? 'block' : 'none';\n",
              "\n",
              "      async function convertToInteractive(key) {\n",
              "        const element = document.querySelector('#df-c2090d7e-c2c0-4ed6-99d6-e4c537db57c2');\n",
              "        const dataTable =\n",
              "          await google.colab.kernel.invokeFunction('convertToInteractive',\n",
              "                                                    [key], {});\n",
              "        if (!dataTable) return;\n",
              "\n",
              "        const docLinkHtml = 'Like what you see? Visit the ' +\n",
              "          '<a target=\"_blank\" href=https://colab.research.google.com/notebooks/data_table.ipynb>data table notebook</a>'\n",
              "          + ' to learn more about interactive tables.';\n",
              "        element.innerHTML = '';\n",
              "        dataTable['output_type'] = 'display_data';\n",
              "        await google.colab.output.renderOutput(dataTable, element);\n",
              "        const docLink = document.createElement('div');\n",
              "        docLink.innerHTML = docLinkHtml;\n",
              "        element.appendChild(docLink);\n",
              "      }\n",
              "    </script>\n",
              "  </div>\n",
              "\n",
              "\n",
              "<div id=\"df-2c511519-ea0c-4186-a22c-a0ff3b2bcfd9\">\n",
              "  <button class=\"colab-df-quickchart\" onclick=\"quickchart('df-2c511519-ea0c-4186-a22c-a0ff3b2bcfd9')\"\n",
              "            title=\"Suggest charts\"\n",
              "            style=\"display:none;\">\n",
              "\n",
              "<svg xmlns=\"http://www.w3.org/2000/svg\" height=\"24px\"viewBox=\"0 0 24 24\"\n",
              "     width=\"24px\">\n",
              "    <g>\n",
              "        <path d=\"M19 3H5c-1.1 0-2 .9-2 2v14c0 1.1.9 2 2 2h14c1.1 0 2-.9 2-2V5c0-1.1-.9-2-2-2zM9 17H7v-7h2v7zm4 0h-2V7h2v10zm4 0h-2v-4h2v4z\"/>\n",
              "    </g>\n",
              "</svg>\n",
              "  </button>\n",
              "\n",
              "<style>\n",
              "  .colab-df-quickchart {\n",
              "      --bg-color: #E8F0FE;\n",
              "      --fill-color: #1967D2;\n",
              "      --hover-bg-color: #E2EBFA;\n",
              "      --hover-fill-color: #174EA6;\n",
              "      --disabled-fill-color: #AAA;\n",
              "      --disabled-bg-color: #DDD;\n",
              "  }\n",
              "\n",
              "  [theme=dark] .colab-df-quickchart {\n",
              "      --bg-color: #3B4455;\n",
              "      --fill-color: #D2E3FC;\n",
              "      --hover-bg-color: #434B5C;\n",
              "      --hover-fill-color: #FFFFFF;\n",
              "      --disabled-bg-color: #3B4455;\n",
              "      --disabled-fill-color: #666;\n",
              "  }\n",
              "\n",
              "  .colab-df-quickchart {\n",
              "    background-color: var(--bg-color);\n",
              "    border: none;\n",
              "    border-radius: 50%;\n",
              "    cursor: pointer;\n",
              "    display: none;\n",
              "    fill: var(--fill-color);\n",
              "    height: 32px;\n",
              "    padding: 0;\n",
              "    width: 32px;\n",
              "  }\n",
              "\n",
              "  .colab-df-quickchart:hover {\n",
              "    background-color: var(--hover-bg-color);\n",
              "    box-shadow: 0 1px 2px rgba(60, 64, 67, 0.3), 0 1px 3px 1px rgba(60, 64, 67, 0.15);\n",
              "    fill: var(--button-hover-fill-color);\n",
              "  }\n",
              "\n",
              "  .colab-df-quickchart-complete:disabled,\n",
              "  .colab-df-quickchart-complete:disabled:hover {\n",
              "    background-color: var(--disabled-bg-color);\n",
              "    fill: var(--disabled-fill-color);\n",
              "    box-shadow: none;\n",
              "  }\n",
              "\n",
              "  .colab-df-spinner {\n",
              "    border: 2px solid var(--fill-color);\n",
              "    border-color: transparent;\n",
              "    border-bottom-color: var(--fill-color);\n",
              "    animation:\n",
              "      spin 1s steps(1) infinite;\n",
              "  }\n",
              "\n",
              "  @keyframes spin {\n",
              "    0% {\n",
              "      border-color: transparent;\n",
              "      border-bottom-color: var(--fill-color);\n",
              "      border-left-color: var(--fill-color);\n",
              "    }\n",
              "    20% {\n",
              "      border-color: transparent;\n",
              "      border-left-color: var(--fill-color);\n",
              "      border-top-color: var(--fill-color);\n",
              "    }\n",
              "    30% {\n",
              "      border-color: transparent;\n",
              "      border-left-color: var(--fill-color);\n",
              "      border-top-color: var(--fill-color);\n",
              "      border-right-color: var(--fill-color);\n",
              "    }\n",
              "    40% {\n",
              "      border-color: transparent;\n",
              "      border-right-color: var(--fill-color);\n",
              "      border-top-color: var(--fill-color);\n",
              "    }\n",
              "    60% {\n",
              "      border-color: transparent;\n",
              "      border-right-color: var(--fill-color);\n",
              "    }\n",
              "    80% {\n",
              "      border-color: transparent;\n",
              "      border-right-color: var(--fill-color);\n",
              "      border-bottom-color: var(--fill-color);\n",
              "    }\n",
              "    90% {\n",
              "      border-color: transparent;\n",
              "      border-bottom-color: var(--fill-color);\n",
              "    }\n",
              "  }\n",
              "</style>\n",
              "\n",
              "  <script>\n",
              "    async function quickchart(key) {\n",
              "      const quickchartButtonEl =\n",
              "        document.querySelector('#' + key + ' button');\n",
              "      quickchartButtonEl.disabled = true;  // To prevent multiple clicks.\n",
              "      quickchartButtonEl.classList.add('colab-df-spinner');\n",
              "      try {\n",
              "        const charts = await google.colab.kernel.invokeFunction(\n",
              "            'suggestCharts', [key], {});\n",
              "      } catch (error) {\n",
              "        console.error('Error during call to suggestCharts:', error);\n",
              "      }\n",
              "      quickchartButtonEl.classList.remove('colab-df-spinner');\n",
              "      quickchartButtonEl.classList.add('colab-df-quickchart-complete');\n",
              "    }\n",
              "    (() => {\n",
              "      let quickchartButtonEl =\n",
              "        document.querySelector('#df-2c511519-ea0c-4186-a22c-a0ff3b2bcfd9 button');\n",
              "      quickchartButtonEl.style.display =\n",
              "        google.colab.kernel.accessAllowed ? 'block' : 'none';\n",
              "    })();\n",
              "  </script>\n",
              "</div>\n",
              "\n",
              "    </div>\n",
              "  </div>\n"
            ],
            "application/vnd.google.colaboratory.intrinsic+json": {
              "type": "dataframe",
              "summary": "{\n  \"name\": \"pd\",\n  \"rows\": 2,\n  \"fields\": [\n    {\n      \"column\": \"Admitted\",\n      \"properties\": {\n        \"dtype\": \"number\",\n        \"std\": 0,\n        \"min\": 0,\n        \"max\": 1,\n        \"num_unique_values\": 2,\n        \"samples\": [\n          1,\n          0\n        ],\n        \"semantic_type\": \"\",\n        \"description\": \"\"\n      }\n    },\n    {\n      \"column\": 0,\n      \"properties\": {\n        \"dtype\": \"number\",\n        \"std\": 6,\n        \"min\": 1,\n        \"max\": 10,\n        \"num_unique_values\": 2,\n        \"samples\": [\n          1,\n          10\n        ],\n        \"semantic_type\": \"\",\n        \"description\": \"\"\n      }\n    },\n    {\n      \"column\": 1,\n      \"properties\": {\n        \"dtype\": \"number\",\n        \"std\": 9,\n        \"min\": 1,\n        \"max\": 15,\n        \"num_unique_values\": 2,\n        \"samples\": [\n          15,\n          1\n        ],\n        \"semantic_type\": \"\",\n        \"description\": \"\"\n      }\n    }\n  ]\n}"
            }
          },
          "metadata": {},
          "execution_count": 95
        }
      ]
    },
    {
      "cell_type": "code",
      "source": [
        "print(\"Harish P\")\n",
        "print(\"21BBS0204\")\n",
        "\n",
        "print(classification_report(y_test,pred))"
      ],
      "metadata": {
        "colab": {
          "base_uri": "https://localhost:8080/"
        },
        "id": "jP_uOREPRvMR",
        "outputId": "cc49f94b-59ab-4d23-b8f1-3f05f50e186d"
      },
      "execution_count": null,
      "outputs": [
        {
          "output_type": "stream",
          "name": "stdout",
          "text": [
            "Harish P\n",
            "21BBS0204\n",
            "              precision    recall  f1-score   support\n",
            "\n",
            "           0       0.91      0.91      0.91        11\n",
            "           1       0.94      0.94      0.94        16\n",
            "\n",
            "    accuracy                           0.93        27\n",
            "   macro avg       0.92      0.92      0.92        27\n",
            "weighted avg       0.93      0.93      0.93        27\n",
            "\n"
          ]
        }
      ]
    },
    {
      "cell_type": "code",
      "source": [
        "intercept = log.intercept_[0]\n",
        "coefficients = log.coef_[0]\n",
        "\n",
        "print(\"The Logit Function is: \")\n",
        "logit_function = (\n",
        "    f\"logit(p) = {intercept:.4f} + \"\n",
        "    f\"{coefficients[0]:.4f} * CGPA + \"\n",
        "    f\"{coefficients[1]:.4f} * GRE + \"\n",
        "    f\"{coefficients[2]:.4f} * TOEFL + \"\n",
        "    f\"{coefficients[3]:.4f} * Researchs + \"\n",
        "    f\"{coefficients[4]:.4f} * Projects + \"\n",
        "    f\"{coefficients[5]:.4f} * Internships\"\n",
        ")\n",
        "print(logit_function)"
      ],
      "metadata": {
        "colab": {
          "base_uri": "https://localhost:8080/"
        },
        "id": "Tb3uzISge1X0",
        "outputId": "bd5ef192-9293-4d3a-fca9-90c47a7d804a"
      },
      "execution_count": null,
      "outputs": [
        {
          "output_type": "stream",
          "name": "stdout",
          "text": [
            "The Logit Function is: \n",
            "logit(p) = -0.1057 + 0.2360 * CGPA + -0.1263 * GRE + 0.3487 * TOEFL + -0.2192 * Researchs + 0.1285 * Projects + 0.5381 * Internships\n"
          ]
        }
      ]
    },
    {
      "cell_type": "code",
      "source": [
        "print(\"Harish P\")\n",
        "print(\"21BBS0204\")\n",
        "\n",
        "with warnings.catch_warnings():\n",
        "    warnings.simplefilter(\"ignore\", category=UserWarning)\n",
        "    new_entry = [[9.39, 322, 113, 1, 5, 1]]\n",
        "\n",
        "    probability = log.predict_proba(new_entry)[:, 1]\n",
        "    print(f\"Predicted Probability: {probability[0]:.4f}\")"
      ],
      "metadata": {
        "colab": {
          "base_uri": "https://localhost:8080/"
        },
        "id": "H6MaioJGfc8Z",
        "outputId": "b0fbaecb-7390-41b0-a03a-0f39b793325d"
      },
      "execution_count": null,
      "outputs": [
        {
          "output_type": "stream",
          "name": "stdout",
          "text": [
            "Harish P\n",
            "21BBS0204\n",
            "Predicted Probability: 0.8578\n"
          ]
        }
      ]
    },
    {
      "cell_type": "code",
      "source": [
        "with warnings.catch_warnings():\n",
        "    warnings.simplefilter(\"ignore\", category=UserWarning)\n",
        "    for index, row in x_test.iterrows():\n",
        "        probability = log.predict_proba([row.values])[:, 1]\n",
        "        print(f\"Predicted Probability for entry {index}: {probability[0]:.4f}\")\n"
      ],
      "metadata": {
        "colab": {
          "base_uri": "https://localhost:8080/"
        },
        "id": "tpBgkiqMhRhO",
        "outputId": "f0aceaaf-f620-479b-9d3c-d46331ea03e8"
      },
      "execution_count": null,
      "outputs": [
        {
          "output_type": "stream",
          "name": "stdout",
          "text": [
            "Predicted Probability for entry 73: 0.2202\n",
            "Predicted Probability for entry 6: 0.9570\n",
            "Predicted Probability for entry 70: 0.6958\n",
            "Predicted Probability for entry 52: 0.7862\n",
            "Predicted Probability for entry 43: 0.3438\n",
            "Predicted Probability for entry 105: 0.8937\n",
            "Predicted Probability for entry 86: 0.0892\n",
            "Predicted Probability for entry 99: 0.8680\n",
            "Predicted Probability for entry 26: 0.1015\n",
            "Predicted Probability for entry 37: 0.2202\n",
            "Predicted Probability for entry 35: 0.0568\n",
            "Predicted Probability for entry 49: 0.2906\n",
            "Predicted Probability for entry 42: 0.9435\n",
            "Predicted Probability for entry 107: 0.0568\n",
            "Predicted Probability for entry 3: 0.9313\n",
            "Predicted Probability for entry 46: 0.6915\n",
            "Predicted Probability for entry 57: 0.9398\n",
            "Predicted Probability for entry 83: 0.1295\n",
            "Predicted Probability for entry 54: 0.9852\n",
            "Predicted Probability for entry 28: 0.7368\n",
            "Predicted Probability for entry 85: 0.2906\n",
            "Predicted Probability for entry 33: 0.9352\n",
            "Predicted Probability for entry 18: 0.9869\n",
            "Predicted Probability for entry 31: 0.2653\n",
            "Predicted Probability for entry 30: 0.9754\n",
            "Predicted Probability for entry 94: 0.6699\n",
            "Predicted Probability for entry 93: 0.9398\n"
          ]
        }
      ]
    }
  ]
}